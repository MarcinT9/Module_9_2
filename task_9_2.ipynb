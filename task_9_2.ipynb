{
 "cells": [
  {
   "cell_type": "code",
   "execution_count": 2,
   "id": "a0082c1d",
   "metadata": {},
   "outputs": [],
   "source": [
    "import pandas as pd\n",
    "import numpy as np\n",
    "import matplotlib.pyplot as plt\n",
    "import seaborn as sns\n",
    "import datetime as dt"
   ]
  },
  {
   "cell_type": "code",
   "execution_count": 3,
   "id": "a401572a",
   "metadata": {},
   "outputs": [
    {
     "data": {
      "text/html": [
       "<div>\n",
       "<style scoped>\n",
       "    .dataframe tbody tr th:only-of-type {\n",
       "        vertical-align: middle;\n",
       "    }\n",
       "\n",
       "    .dataframe tbody tr th {\n",
       "        vertical-align: top;\n",
       "    }\n",
       "\n",
       "    .dataframe thead th {\n",
       "        text-align: right;\n",
       "    }\n",
       "</style>\n",
       "<table border=\"1\" class=\"dataframe\">\n",
       "  <thead>\n",
       "    <tr style=\"text-align: right;\">\n",
       "      <th></th>\n",
       "      <th>Employee_Name</th>\n",
       "      <th>EmpID</th>\n",
       "      <th>MarriedID</th>\n",
       "      <th>MaritalStatusID</th>\n",
       "      <th>GenderID</th>\n",
       "      <th>EmpStatusID</th>\n",
       "      <th>DeptID</th>\n",
       "      <th>PerfScoreID</th>\n",
       "      <th>FromDiversityJobFairID</th>\n",
       "      <th>PayRate</th>\n",
       "      <th>...</th>\n",
       "      <th>Department</th>\n",
       "      <th>ManagerName</th>\n",
       "      <th>ManagerID</th>\n",
       "      <th>RecruitmentSource</th>\n",
       "      <th>PerformanceScore</th>\n",
       "      <th>EngagementSurvey</th>\n",
       "      <th>EmpSatisfaction</th>\n",
       "      <th>SpecialProjectsCount</th>\n",
       "      <th>LastPerformanceReview_Date</th>\n",
       "      <th>DaysLateLast30</th>\n",
       "    </tr>\n",
       "  </thead>\n",
       "  <tbody>\n",
       "    <tr>\n",
       "      <th>0</th>\n",
       "      <td>Brown, Mia</td>\n",
       "      <td>1.103024e+09</td>\n",
       "      <td>1.0</td>\n",
       "      <td>1.0</td>\n",
       "      <td>0.0</td>\n",
       "      <td>1.0</td>\n",
       "      <td>1.0</td>\n",
       "      <td>3.0</td>\n",
       "      <td>1.0</td>\n",
       "      <td>28.50</td>\n",
       "      <td>...</td>\n",
       "      <td>Admin Offices</td>\n",
       "      <td>Brandon R. LeBlanc</td>\n",
       "      <td>1.0</td>\n",
       "      <td>Diversity Job Fair</td>\n",
       "      <td>Fully Meets</td>\n",
       "      <td>2.04</td>\n",
       "      <td>2.0</td>\n",
       "      <td>6.0</td>\n",
       "      <td>1/15/2019</td>\n",
       "      <td>0.0</td>\n",
       "    </tr>\n",
       "    <tr>\n",
       "      <th>1</th>\n",
       "      <td>LaRotonda, William</td>\n",
       "      <td>1.106027e+09</td>\n",
       "      <td>0.0</td>\n",
       "      <td>2.0</td>\n",
       "      <td>1.0</td>\n",
       "      <td>1.0</td>\n",
       "      <td>1.0</td>\n",
       "      <td>3.0</td>\n",
       "      <td>0.0</td>\n",
       "      <td>23.00</td>\n",
       "      <td>...</td>\n",
       "      <td>Admin Offices</td>\n",
       "      <td>Brandon R. LeBlanc</td>\n",
       "      <td>1.0</td>\n",
       "      <td>Website Banner Ads</td>\n",
       "      <td>Fully Meets</td>\n",
       "      <td>5.00</td>\n",
       "      <td>4.0</td>\n",
       "      <td>4.0</td>\n",
       "      <td>1/17/2019</td>\n",
       "      <td>0.0</td>\n",
       "    </tr>\n",
       "    <tr>\n",
       "      <th>2</th>\n",
       "      <td>Steans, Tyrone</td>\n",
       "      <td>1.302053e+09</td>\n",
       "      <td>0.0</td>\n",
       "      <td>0.0</td>\n",
       "      <td>1.0</td>\n",
       "      <td>1.0</td>\n",
       "      <td>1.0</td>\n",
       "      <td>3.0</td>\n",
       "      <td>0.0</td>\n",
       "      <td>29.00</td>\n",
       "      <td>...</td>\n",
       "      <td>Admin Offices</td>\n",
       "      <td>Brandon R. LeBlanc</td>\n",
       "      <td>1.0</td>\n",
       "      <td>Internet Search</td>\n",
       "      <td>Fully Meets</td>\n",
       "      <td>3.90</td>\n",
       "      <td>5.0</td>\n",
       "      <td>5.0</td>\n",
       "      <td>1/18/2019</td>\n",
       "      <td>0.0</td>\n",
       "    </tr>\n",
       "    <tr>\n",
       "      <th>3</th>\n",
       "      <td>Howard, Estelle</td>\n",
       "      <td>1.211051e+09</td>\n",
       "      <td>1.0</td>\n",
       "      <td>1.0</td>\n",
       "      <td>0.0</td>\n",
       "      <td>1.0</td>\n",
       "      <td>1.0</td>\n",
       "      <td>3.0</td>\n",
       "      <td>0.0</td>\n",
       "      <td>21.50</td>\n",
       "      <td>...</td>\n",
       "      <td>Admin Offices</td>\n",
       "      <td>Brandon R. LeBlanc</td>\n",
       "      <td>1.0</td>\n",
       "      <td>Pay Per Click - Google</td>\n",
       "      <td>Fully Meets</td>\n",
       "      <td>3.24</td>\n",
       "      <td>3.0</td>\n",
       "      <td>4.0</td>\n",
       "      <td>NaN</td>\n",
       "      <td>NaN</td>\n",
       "    </tr>\n",
       "    <tr>\n",
       "      <th>4</th>\n",
       "      <td>Singh, Nan</td>\n",
       "      <td>1.307060e+09</td>\n",
       "      <td>0.0</td>\n",
       "      <td>0.0</td>\n",
       "      <td>0.0</td>\n",
       "      <td>1.0</td>\n",
       "      <td>1.0</td>\n",
       "      <td>3.0</td>\n",
       "      <td>0.0</td>\n",
       "      <td>16.56</td>\n",
       "      <td>...</td>\n",
       "      <td>Admin Offices</td>\n",
       "      <td>Brandon R. LeBlanc</td>\n",
       "      <td>1.0</td>\n",
       "      <td>Website Banner Ads</td>\n",
       "      <td>Fully Meets</td>\n",
       "      <td>5.00</td>\n",
       "      <td>3.0</td>\n",
       "      <td>5.0</td>\n",
       "      <td>1/15/2019</td>\n",
       "      <td>0.0</td>\n",
       "    </tr>\n",
       "  </tbody>\n",
       "</table>\n",
       "<p>5 rows × 35 columns</p>\n",
       "</div>"
      ],
      "text/plain": [
       "          Employee_Name         EmpID  MarriedID  MaritalStatusID  GenderID  \\\n",
       "0            Brown, Mia  1.103024e+09        1.0              1.0       0.0   \n",
       "1  LaRotonda, William    1.106027e+09        0.0              2.0       1.0   \n",
       "2      Steans, Tyrone    1.302053e+09        0.0              0.0       1.0   \n",
       "3       Howard, Estelle  1.211051e+09        1.0              1.0       0.0   \n",
       "4           Singh, Nan   1.307060e+09        0.0              0.0       0.0   \n",
       "\n",
       "   EmpStatusID  DeptID  PerfScoreID  FromDiversityJobFairID  PayRate  ...  \\\n",
       "0          1.0     1.0          3.0                     1.0    28.50  ...   \n",
       "1          1.0     1.0          3.0                     0.0    23.00  ...   \n",
       "2          1.0     1.0          3.0                     0.0    29.00  ...   \n",
       "3          1.0     1.0          3.0                     0.0    21.50  ...   \n",
       "4          1.0     1.0          3.0                     0.0    16.56  ...   \n",
       "\n",
       "      Department         ManagerName ManagerID       RecruitmentSource  \\\n",
       "0  Admin Offices  Brandon R. LeBlanc       1.0      Diversity Job Fair   \n",
       "1  Admin Offices  Brandon R. LeBlanc       1.0      Website Banner Ads   \n",
       "2  Admin Offices  Brandon R. LeBlanc       1.0         Internet Search   \n",
       "3  Admin Offices  Brandon R. LeBlanc       1.0  Pay Per Click - Google   \n",
       "4  Admin Offices  Brandon R. LeBlanc       1.0      Website Banner Ads   \n",
       "\n",
       "   PerformanceScore EngagementSurvey EmpSatisfaction SpecialProjectsCount  \\\n",
       "0       Fully Meets             2.04             2.0                  6.0   \n",
       "1       Fully Meets             5.00             4.0                  4.0   \n",
       "2       Fully Meets             3.90             5.0                  5.0   \n",
       "3       Fully Meets             3.24             3.0                  4.0   \n",
       "4       Fully Meets             5.00             3.0                  5.0   \n",
       "\n",
       "  LastPerformanceReview_Date DaysLateLast30  \n",
       "0                  1/15/2019            0.0  \n",
       "1                  1/17/2019            0.0  \n",
       "2                  1/18/2019            0.0  \n",
       "3                        NaN            NaN  \n",
       "4                  1/15/2019            0.0  \n",
       "\n",
       "[5 rows x 35 columns]"
      ]
     },
     "execution_count": 3,
     "metadata": {},
     "output_type": "execute_result"
    }
   ],
   "source": [
    "df = pd.read_csv('HRDataset.csv')\n",
    "df.head()"
   ]
  },
  {
   "cell_type": "markdown",
   "id": "758a290a",
   "metadata": {},
   "source": [
    "Czyszczenie i porządkowanie danych:"
   ]
  },
  {
   "cell_type": "code",
   "execution_count": 4,
   "id": "dc1aa773",
   "metadata": {},
   "outputs": [],
   "source": [
    "df.drop(['LastPerformanceReview_Date','DaysLateLast30'],axis=1,inplace=True)"
   ]
  },
  {
   "cell_type": "code",
   "execution_count": 5,
   "id": "788bfa46",
   "metadata": {},
   "outputs": [],
   "source": [
    "df.dropna(thresh=2,inplace=True)"
   ]
  },
  {
   "cell_type": "code",
   "execution_count": 6,
   "id": "91c869a0",
   "metadata": {},
   "outputs": [
    {
     "data": {
      "text/html": [
       "<div>\n",
       "<style scoped>\n",
       "    .dataframe tbody tr th:only-of-type {\n",
       "        vertical-align: middle;\n",
       "    }\n",
       "\n",
       "    .dataframe tbody tr th {\n",
       "        vertical-align: top;\n",
       "    }\n",
       "\n",
       "    .dataframe thead th {\n",
       "        text-align: right;\n",
       "    }\n",
       "</style>\n",
       "<table border=\"1\" class=\"dataframe\">\n",
       "  <thead>\n",
       "    <tr style=\"text-align: right;\">\n",
       "      <th></th>\n",
       "      <th>DateofTermination</th>\n",
       "      <th>DOB</th>\n",
       "      <th>DateofHire</th>\n",
       "    </tr>\n",
       "  </thead>\n",
       "  <tbody>\n",
       "    <tr>\n",
       "      <th>0</th>\n",
       "      <td>NaT</td>\n",
       "      <td>1987-11-24</td>\n",
       "      <td>2008-10-27</td>\n",
       "    </tr>\n",
       "    <tr>\n",
       "      <th>1</th>\n",
       "      <td>NaT</td>\n",
       "      <td>1984-04-26</td>\n",
       "      <td>2014-01-06</td>\n",
       "    </tr>\n",
       "    <tr>\n",
       "      <th>2</th>\n",
       "      <td>NaT</td>\n",
       "      <td>1986-09-01</td>\n",
       "      <td>2014-09-29</td>\n",
       "    </tr>\n",
       "    <tr>\n",
       "      <th>3</th>\n",
       "      <td>2015-04-15</td>\n",
       "      <td>1985-09-16</td>\n",
       "      <td>2015-02-16</td>\n",
       "    </tr>\n",
       "    <tr>\n",
       "      <th>4</th>\n",
       "      <td>NaT</td>\n",
       "      <td>1988-05-19</td>\n",
       "      <td>2015-05-01</td>\n",
       "    </tr>\n",
       "  </tbody>\n",
       "</table>\n",
       "</div>"
      ],
      "text/plain": [
       "  DateofTermination        DOB DateofHire\n",
       "0               NaT 1987-11-24 2008-10-27\n",
       "1               NaT 1984-04-26 2014-01-06\n",
       "2               NaT 1986-09-01 2014-09-29\n",
       "3        2015-04-15 1985-09-16 2015-02-16\n",
       "4               NaT 1988-05-19 2015-05-01"
      ]
     },
     "execution_count": 6,
     "metadata": {},
     "output_type": "execute_result"
    }
   ],
   "source": [
    "df['DOB'] = pd.to_datetime(df['DOB'],format='%m/%d/%y')\n",
    "df['DateofTermination'] = pd.to_datetime(df['DateofTermination'],format='%m/%d/%y')\n",
    "df['DateofHire'] = pd.to_datetime(df['DateofHire'],format='%m/%d/%Y')\n",
    "df[['DateofTermination','DOB','DateofHire']].head()"
   ]
  },
  {
   "cell_type": "markdown",
   "id": "53b525b9",
   "metadata": {},
   "source": [
    "### Czy istnieje zależność pomiędzy tym, kto jest bezpośrednim przełożonym (ManagerName, ManagerID) danego pracownika, a oceną wydajności pracy (PerformanceScore)?"
   ]
  },
  {
   "cell_type": "code",
   "execution_count": 7,
   "id": "c12925e8",
   "metadata": {},
   "outputs": [
    {
     "data": {
      "text/plain": [
       "<AxesSubplot:xlabel='count', ylabel='ManagerName'>"
      ]
     },
     "execution_count": 7,
     "metadata": {},
     "output_type": "execute_result"
    },
    {
     "data": {
      "image/png": "[encoded data removed]",
      "text/plain": [
       "<Figure size 1296x864 with 1 Axes>"
      ]
     },
     "metadata": {
      "needs_background": "light"
     },
     "output_type": "display_data"
    }
   ],
   "source": [
    "sns.set_style('darkgrid')\n",
    "plt.figure(figsize=(18,12))\n",
    "sns.countplot(y='ManagerName', hue='PerformanceScore', data=df)"
   ]
  },
  {
   "cell_type": "markdown",
   "id": "4a94c3a3",
   "metadata": {},
   "source": [
    "Dane nie wskazują większej zależności miedzy przełożonym, a wydajnością podległym im pracownikom."
   ]
  },
  {
   "cell_type": "markdown",
   "id": "247b07b8",
   "metadata": {},
   "source": [
    "### Jakie źródła pozyskania pracownika (Recruitment Source) są najlepsze, jeśli zależy nam na jak najdłuższym stażu pracowników?"
   ]
  },
  {
   "cell_type": "code",
   "execution_count": 8,
   "id": "f94b7bcc",
   "metadata": {},
   "outputs": [],
   "source": [
    "def count_seniority(row):\n",
    "\n",
    "    if pd.isnull(row['DateofTermination']):\n",
    "        end_date = dt.datetime(2019,9,27)\n",
    "    else:\n",
    "        end_date = row['DateofTermination']\n",
    "\n",
    "    return (end_date - row['DateofHire'])/np.timedelta64(1,'Y')"
   ]
  },
  {
   "cell_type": "code",
   "execution_count": 9,
   "id": "5e2115c4",
   "metadata": {},
   "outputs": [],
   "source": [
    "df['Seniority'] = df.apply(lambda row: count_seniority(row),axis=1)"
   ]
  },
  {
   "cell_type": "code",
   "execution_count": 10,
   "id": "74b10938",
   "metadata": {},
   "outputs": [
    {
     "data": {
      "text/plain": [
       "<seaborn.axisgrid.FacetGrid at 0x1d2b9c0fa30>"
      ]
     },
     "execution_count": 10,
     "metadata": {},
     "output_type": "execute_result"
    },
    {
     "data": {
      "text/plain": [
       "<Figure size 1440x1440 with 0 Axes>"
      ]
     },
     "metadata": {},
     "output_type": "display_data"
    },
    {
     "data": {
      "image/png": "[encoded data removed]",
      "text/plain": [
       "<Figure size 360x360 with 1 Axes>"
      ]
     },
     "metadata": {
      "needs_background": "light"
     },
     "output_type": "display_data"
    }
   ],
   "source": [
    "plt.figure(figsize=(20,20))\n",
    "sns.displot(x='Seniority', y='RecruitmentSource', data=df)"
   ]
  },
  {
   "cell_type": "markdown",
   "id": "3cce2cdc",
   "metadata": {},
   "source": [
    "Najlepszym źródłem poszukiwania pracowników, którzy zasilą przedsiębiorstwo na długie lata to: Targi pracy - są zatrudniani na okrągło i pozostają w strukturze nawet do 10-11 lat; Bilbordy - występują tu kilkuletnie przerwy w zatrudniamu pracowników z tego źródła, ale osoby zatrudnione osiągają wysoki staż pracy, nawet do 13-14 lat, Referencje pracowników - z tego źródła znajduje się największa grupa pracowników posiadających 5-6-letni staż pracy, Wyszukiwarka internetowa - tożsama z Targami pracy."
   ]
  },
  {
   "cell_type": "markdown",
   "id": "79c94251",
   "metadata": {},
   "source": [
    "### Czy stan cywilny (MartialDesc) pracownika koreluje w jakikolwiek sposób z zadowoleniem z pracy (EmpSatisfaction)?"
   ]
  },
  {
   "cell_type": "code",
   "execution_count": 11,
   "id": "c10790e6",
   "metadata": {},
   "outputs": [
    {
     "data": {
      "text/plain": [
       "<AxesSubplot:xlabel='MaritalDesc', ylabel='count'>"
      ]
     },
     "execution_count": 11,
     "metadata": {},
     "output_type": "execute_result"
    },
    {
     "data": {
      "image/png": "[encoded data removed]",
      "text/plain": [
       "<Figure size 1440x720 with 1 Axes>"
      ]
     },
     "metadata": {
      "needs_background": "light"
     },
     "output_type": "display_data"
    }
   ],
   "source": [
    "plt.figure(figsize=(20,10))\n",
    "sns.countplot(x='MaritalDesc', hue='EmpSatisfaction', data=df)"
   ]
  },
  {
   "cell_type": "markdown",
   "id": "0f16d78c",
   "metadata": {},
   "source": [
    "Dane wskazują, że najbardziej zadowoloną grupą są osoby samotne (jednocześnie najlicznejsza grupa). W grupie osób po ślubie wyraźnie widzimy zróżnicowanie w zadowoleniu, mimo wszystko kształtuje się ono pozytywnie. Grupa rozwodników jest nieliczna, ale w większości pozytywnie lub bardzo pozytywnie nastawiona do pracy. Grupy wdowców i w separacji są na tyle nieliczne, że nie pozwalają wyciągnąć wystarczających wniosków."
   ]
  },
  {
   "cell_type": "markdown",
   "id": "dd1aa9c0",
   "metadata": {},
   "source": [
    "### Jak wygląda struktura wieku aktualnie zatrudnionych pracowników?"
   ]
  },
  {
   "cell_type": "code",
   "execution_count": 12,
   "id": "7d0e3106",
   "metadata": {},
   "outputs": [
    {
     "data": {
      "text/html": [
       "<div>\n",
       "<style scoped>\n",
       "    .dataframe tbody tr th:only-of-type {\n",
       "        vertical-align: middle;\n",
       "    }\n",
       "\n",
       "    .dataframe tbody tr th {\n",
       "        vertical-align: top;\n",
       "    }\n",
       "\n",
       "    .dataframe thead th {\n",
       "        text-align: right;\n",
       "    }\n",
       "</style>\n",
       "<table border=\"1\" class=\"dataframe\">\n",
       "  <thead>\n",
       "    <tr style=\"text-align: right;\">\n",
       "      <th></th>\n",
       "      <th>DateofTermination</th>\n",
       "      <th>DOB</th>\n",
       "      <th>DateofHire</th>\n",
       "    </tr>\n",
       "  </thead>\n",
       "  <tbody>\n",
       "    <tr>\n",
       "      <th>0</th>\n",
       "      <td>NaT</td>\n",
       "      <td>1987-11-24</td>\n",
       "      <td>2008-10-27</td>\n",
       "    </tr>\n",
       "    <tr>\n",
       "      <th>1</th>\n",
       "      <td>NaT</td>\n",
       "      <td>1984-04-26</td>\n",
       "      <td>2014-01-06</td>\n",
       "    </tr>\n",
       "    <tr>\n",
       "      <th>2</th>\n",
       "      <td>NaT</td>\n",
       "      <td>1986-09-01</td>\n",
       "      <td>2014-09-29</td>\n",
       "    </tr>\n",
       "    <tr>\n",
       "      <th>4</th>\n",
       "      <td>NaT</td>\n",
       "      <td>1988-05-19</td>\n",
       "      <td>2015-05-01</td>\n",
       "    </tr>\n",
       "    <tr>\n",
       "      <th>7</th>\n",
       "      <td>NaT</td>\n",
       "      <td>2063-05-15</td>\n",
       "      <td>2014-08-18</td>\n",
       "    </tr>\n",
       "    <tr>\n",
       "      <th>...</th>\n",
       "      <td>...</td>\n",
       "      <td>...</td>\n",
       "      <td>...</td>\n",
       "    </tr>\n",
       "    <tr>\n",
       "      <th>300</th>\n",
       "      <td>NaT</td>\n",
       "      <td>1987-04-04</td>\n",
       "      <td>2015-02-16</td>\n",
       "    </tr>\n",
       "    <tr>\n",
       "      <th>305</th>\n",
       "      <td>NaT</td>\n",
       "      <td>2052-01-18</td>\n",
       "      <td>2014-11-10</td>\n",
       "    </tr>\n",
       "    <tr>\n",
       "      <th>306</th>\n",
       "      <td>NaT</td>\n",
       "      <td>1986-04-23</td>\n",
       "      <td>2014-11-10</td>\n",
       "    </tr>\n",
       "    <tr>\n",
       "      <th>308</th>\n",
       "      <td>NaT</td>\n",
       "      <td>2065-09-09</td>\n",
       "      <td>2014-11-10</td>\n",
       "    </tr>\n",
       "    <tr>\n",
       "      <th>309</th>\n",
       "      <td>NaT</td>\n",
       "      <td>1978-05-02</td>\n",
       "      <td>2015-03-30</td>\n",
       "    </tr>\n",
       "  </tbody>\n",
       "</table>\n",
       "<p>196 rows × 3 columns</p>\n",
       "</div>"
      ],
      "text/plain": [
       "    DateofTermination        DOB DateofHire\n",
       "0                 NaT 1987-11-24 2008-10-27\n",
       "1                 NaT 1984-04-26 2014-01-06\n",
       "2                 NaT 1986-09-01 2014-09-29\n",
       "4                 NaT 1988-05-19 2015-05-01\n",
       "7                 NaT 2063-05-15 2014-08-18\n",
       "..                ...        ...        ...\n",
       "300               NaT 1987-04-04 2015-02-16\n",
       "305               NaT 2052-01-18 2014-11-10\n",
       "306               NaT 1986-04-23 2014-11-10\n",
       "308               NaT 2065-09-09 2014-11-10\n",
       "309               NaT 1978-05-02 2015-03-30\n",
       "\n",
       "[196 rows x 3 columns]"
      ]
     },
     "execution_count": 12,
     "metadata": {},
     "output_type": "execute_result"
    }
   ],
   "source": [
    "df2=df[df['TermReason'] == 'N/A - still employed'] # osoby wciąż zatrudnione z różnym statusem aktywności\n",
    "df2[['DateofTermination','DOB','DateofHire']]"
   ]
  },
  {
   "cell_type": "code",
   "execution_count": 13,
   "id": "54847dcb",
   "metadata": {},
   "outputs": [
    {
     "name": "stderr",
     "output_type": "stream",
     "text": [
      "C:\\Users\\Marcin\\AppData\\Local\\Temp\\ipykernel_14820\\277707724.py:5: SettingWithCopyWarning: \n",
      "A value is trying to be set on a copy of a slice from a DataFrame.\n",
      "Try using .loc[row_indexer,col_indexer] = value instead\n",
      "\n",
      "See the caveats in the documentation: https://pandas.pydata.org/pandas-docs/stable/user_guide/indexing.html#returning-a-view-versus-a-copy\n",
      "  df2['Age'] = df2.apply(lambda row: emploee_age(row),axis=1)\n"
     ]
    },
    {
     "data": {
      "text/html": [
       "<div>\n",
       "<style scoped>\n",
       "    .dataframe tbody tr th:only-of-type {\n",
       "        vertical-align: middle;\n",
       "    }\n",
       "\n",
       "    .dataframe tbody tr th {\n",
       "        vertical-align: top;\n",
       "    }\n",
       "\n",
       "    .dataframe thead th {\n",
       "        text-align: right;\n",
       "    }\n",
       "</style>\n",
       "<table border=\"1\" class=\"dataframe\">\n",
       "  <thead>\n",
       "    <tr style=\"text-align: right;\">\n",
       "      <th></th>\n",
       "      <th>Employee_Name</th>\n",
       "      <th>EmpID</th>\n",
       "      <th>MarriedID</th>\n",
       "      <th>MaritalStatusID</th>\n",
       "      <th>GenderID</th>\n",
       "      <th>EmpStatusID</th>\n",
       "      <th>DeptID</th>\n",
       "      <th>PerfScoreID</th>\n",
       "      <th>FromDiversityJobFairID</th>\n",
       "      <th>PayRate</th>\n",
       "      <th>...</th>\n",
       "      <th>Department</th>\n",
       "      <th>ManagerName</th>\n",
       "      <th>ManagerID</th>\n",
       "      <th>RecruitmentSource</th>\n",
       "      <th>PerformanceScore</th>\n",
       "      <th>EngagementSurvey</th>\n",
       "      <th>EmpSatisfaction</th>\n",
       "      <th>SpecialProjectsCount</th>\n",
       "      <th>Seniority</th>\n",
       "      <th>Age</th>\n",
       "    </tr>\n",
       "  </thead>\n",
       "  <tbody>\n",
       "    <tr>\n",
       "      <th>0</th>\n",
       "      <td>Brown, Mia</td>\n",
       "      <td>1.103024e+09</td>\n",
       "      <td>1.0</td>\n",
       "      <td>1.0</td>\n",
       "      <td>0.0</td>\n",
       "      <td>1.0</td>\n",
       "      <td>1.0</td>\n",
       "      <td>3.0</td>\n",
       "      <td>1.0</td>\n",
       "      <td>28.50</td>\n",
       "      <td>...</td>\n",
       "      <td>Admin Offices</td>\n",
       "      <td>Brandon R. LeBlanc</td>\n",
       "      <td>1.0</td>\n",
       "      <td>Diversity Job Fair</td>\n",
       "      <td>Fully Meets</td>\n",
       "      <td>2.04</td>\n",
       "      <td>2.0</td>\n",
       "      <td>6.0</td>\n",
       "      <td>10.916035</td>\n",
       "      <td>31.841858</td>\n",
       "    </tr>\n",
       "    <tr>\n",
       "      <th>1</th>\n",
       "      <td>LaRotonda, William</td>\n",
       "      <td>1.106027e+09</td>\n",
       "      <td>0.0</td>\n",
       "      <td>2.0</td>\n",
       "      <td>1.0</td>\n",
       "      <td>1.0</td>\n",
       "      <td>1.0</td>\n",
       "      <td>3.0</td>\n",
       "      <td>0.0</td>\n",
       "      <td>23.00</td>\n",
       "      <td>...</td>\n",
       "      <td>Admin Offices</td>\n",
       "      <td>Brandon R. LeBlanc</td>\n",
       "      <td>1.0</td>\n",
       "      <td>Website Banner Ads</td>\n",
       "      <td>Fully Meets</td>\n",
       "      <td>5.00</td>\n",
       "      <td>4.0</td>\n",
       "      <td>4.0</td>\n",
       "      <td>5.722226</td>\n",
       "      <td>35.420303</td>\n",
       "    </tr>\n",
       "    <tr>\n",
       "      <th>2</th>\n",
       "      <td>Steans, Tyrone</td>\n",
       "      <td>1.302053e+09</td>\n",
       "      <td>0.0</td>\n",
       "      <td>0.0</td>\n",
       "      <td>1.0</td>\n",
       "      <td>1.0</td>\n",
       "      <td>1.0</td>\n",
       "      <td>3.0</td>\n",
       "      <td>0.0</td>\n",
       "      <td>29.00</td>\n",
       "      <td>...</td>\n",
       "      <td>Admin Offices</td>\n",
       "      <td>Brandon R. LeBlanc</td>\n",
       "      <td>1.0</td>\n",
       "      <td>Internet Search</td>\n",
       "      <td>Fully Meets</td>\n",
       "      <td>3.90</td>\n",
       "      <td>5.0</td>\n",
       "      <td>5.0</td>\n",
       "      <td>4.993942</td>\n",
       "      <td>33.071179</td>\n",
       "    </tr>\n",
       "    <tr>\n",
       "      <th>4</th>\n",
       "      <td>Singh, Nan</td>\n",
       "      <td>1.307060e+09</td>\n",
       "      <td>0.0</td>\n",
       "      <td>0.0</td>\n",
       "      <td>0.0</td>\n",
       "      <td>1.0</td>\n",
       "      <td>1.0</td>\n",
       "      <td>3.0</td>\n",
       "      <td>0.0</td>\n",
       "      <td>16.56</td>\n",
       "      <td>...</td>\n",
       "      <td>Admin Offices</td>\n",
       "      <td>Brandon R. LeBlanc</td>\n",
       "      <td>1.0</td>\n",
       "      <td>Website Banner Ads</td>\n",
       "      <td>Fully Meets</td>\n",
       "      <td>5.00</td>\n",
       "      <td>3.0</td>\n",
       "      <td>5.0</td>\n",
       "      <td>4.408030</td>\n",
       "      <td>31.357249</td>\n",
       "    </tr>\n",
       "    <tr>\n",
       "      <th>7</th>\n",
       "      <td>Carter, Michelle</td>\n",
       "      <td>1.403066e+09</td>\n",
       "      <td>0.0</td>\n",
       "      <td>0.0</td>\n",
       "      <td>0.0</td>\n",
       "      <td>1.0</td>\n",
       "      <td>6.0</td>\n",
       "      <td>3.0</td>\n",
       "      <td>0.0</td>\n",
       "      <td>55.00</td>\n",
       "      <td>...</td>\n",
       "      <td>Sales</td>\n",
       "      <td>John Smith</td>\n",
       "      <td>17.0</td>\n",
       "      <td>Billboard</td>\n",
       "      <td>Fully Meets</td>\n",
       "      <td>5.00</td>\n",
       "      <td>5.0</td>\n",
       "      <td>0.0</td>\n",
       "      <td>5.108934</td>\n",
       "      <td>-43.631286</td>\n",
       "    </tr>\n",
       "    <tr>\n",
       "      <th>...</th>\n",
       "      <td>...</td>\n",
       "      <td>...</td>\n",
       "      <td>...</td>\n",
       "      <td>...</td>\n",
       "      <td>...</td>\n",
       "      <td>...</td>\n",
       "      <td>...</td>\n",
       "      <td>...</td>\n",
       "      <td>...</td>\n",
       "      <td>...</td>\n",
       "      <td>...</td>\n",
       "      <td>...</td>\n",
       "      <td>...</td>\n",
       "      <td>...</td>\n",
       "      <td>...</td>\n",
       "      <td>...</td>\n",
       "      <td>...</td>\n",
       "      <td>...</td>\n",
       "      <td>...</td>\n",
       "      <td>...</td>\n",
       "      <td>...</td>\n",
       "    </tr>\n",
       "    <tr>\n",
       "      <th>300</th>\n",
       "      <td>Boutwell, Bonalyn</td>\n",
       "      <td>1.307060e+09</td>\n",
       "      <td>1.0</td>\n",
       "      <td>1.0</td>\n",
       "      <td>0.0</td>\n",
       "      <td>1.0</td>\n",
       "      <td>1.0</td>\n",
       "      <td>3.0</td>\n",
       "      <td>1.0</td>\n",
       "      <td>34.95</td>\n",
       "      <td>...</td>\n",
       "      <td>Admin Offices</td>\n",
       "      <td>Brandon R. LeBlanc</td>\n",
       "      <td>3.0</td>\n",
       "      <td>Diversity Job Fair</td>\n",
       "      <td>Fully Meets</td>\n",
       "      <td>5.00</td>\n",
       "      <td>4.0</td>\n",
       "      <td>3.0</td>\n",
       "      <td>4.610635</td>\n",
       "      <td>32.482529</td>\n",
       "    </tr>\n",
       "    <tr>\n",
       "      <th>305</th>\n",
       "      <td>Daniele, Ann</td>\n",
       "      <td>1.411071e+09</td>\n",
       "      <td>1.0</td>\n",
       "      <td>1.0</td>\n",
       "      <td>0.0</td>\n",
       "      <td>3.0</td>\n",
       "      <td>3.0</td>\n",
       "      <td>3.0</td>\n",
       "      <td>0.0</td>\n",
       "      <td>54.10</td>\n",
       "      <td>...</td>\n",
       "      <td>IT/IS</td>\n",
       "      <td>Peter Monroe</td>\n",
       "      <td>7.0</td>\n",
       "      <td>Vendor Referral</td>\n",
       "      <td>Fully Meets</td>\n",
       "      <td>1.55</td>\n",
       "      <td>5.0</td>\n",
       "      <td>8.0</td>\n",
       "      <td>4.878950</td>\n",
       "      <td>-32.310041</td>\n",
       "    </tr>\n",
       "    <tr>\n",
       "      <th>306</th>\n",
       "      <td>Lajiri,  Jyoti</td>\n",
       "      <td>1.108028e+09</td>\n",
       "      <td>1.0</td>\n",
       "      <td>1.0</td>\n",
       "      <td>1.0</td>\n",
       "      <td>3.0</td>\n",
       "      <td>3.0</td>\n",
       "      <td>3.0</td>\n",
       "      <td>0.0</td>\n",
       "      <td>56.20</td>\n",
       "      <td>...</td>\n",
       "      <td>IT/IS</td>\n",
       "      <td>Peter Monroe</td>\n",
       "      <td>7.0</td>\n",
       "      <td>Employee Referral</td>\n",
       "      <td>Fully Meets</td>\n",
       "      <td>4.46</td>\n",
       "      <td>5.0</td>\n",
       "      <td>6.0</td>\n",
       "      <td>4.878950</td>\n",
       "      <td>33.429845</td>\n",
       "    </tr>\n",
       "    <tr>\n",
       "      <th>308</th>\n",
       "      <td>South, Joe</td>\n",
       "      <td>1.308061e+09</td>\n",
       "      <td>0.0</td>\n",
       "      <td>0.0</td>\n",
       "      <td>1.0</td>\n",
       "      <td>1.0</td>\n",
       "      <td>3.0</td>\n",
       "      <td>3.0</td>\n",
       "      <td>0.0</td>\n",
       "      <td>53.00</td>\n",
       "      <td>...</td>\n",
       "      <td>IT/IS</td>\n",
       "      <td>Peter Monroe</td>\n",
       "      <td>7.0</td>\n",
       "      <td>Employee Referral</td>\n",
       "      <td>Fully Meets</td>\n",
       "      <td>5.00</td>\n",
       "      <td>3.0</td>\n",
       "      <td>4.0</td>\n",
       "      <td>4.878950</td>\n",
       "      <td>-45.953031</td>\n",
       "    </tr>\n",
       "    <tr>\n",
       "      <th>309</th>\n",
       "      <td>Warfield, Sarah</td>\n",
       "      <td>1.301052e+09</td>\n",
       "      <td>0.0</td>\n",
       "      <td>4.0</td>\n",
       "      <td>0.0</td>\n",
       "      <td>1.0</td>\n",
       "      <td>3.0</td>\n",
       "      <td>3.0</td>\n",
       "      <td>0.0</td>\n",
       "      <td>55.20</td>\n",
       "      <td>...</td>\n",
       "      <td>IT/IS</td>\n",
       "      <td>Peter Monroe</td>\n",
       "      <td>7.0</td>\n",
       "      <td>Employee Referral</td>\n",
       "      <td>Fully Meets</td>\n",
       "      <td>1.06</td>\n",
       "      <td>4.0</td>\n",
       "      <td>8.0</td>\n",
       "      <td>4.495643</td>\n",
       "      <td>41.405368</td>\n",
       "    </tr>\n",
       "  </tbody>\n",
       "</table>\n",
       "<p>196 rows × 35 columns</p>\n",
       "</div>"
      ],
      "text/plain": [
       "            Employee_Name         EmpID  MarriedID  MaritalStatusID  GenderID  \\\n",
       "0              Brown, Mia  1.103024e+09        1.0              1.0       0.0   \n",
       "1    LaRotonda, William    1.106027e+09        0.0              2.0       1.0   \n",
       "2        Steans, Tyrone    1.302053e+09        0.0              0.0       1.0   \n",
       "4             Singh, Nan   1.307060e+09        0.0              0.0       0.0   \n",
       "7       Carter, Michelle   1.403066e+09        0.0              0.0       0.0   \n",
       "..                    ...           ...        ...              ...       ...   \n",
       "300     Boutwell, Bonalyn  1.307060e+09        1.0              1.0       0.0   \n",
       "305        Daniele, Ann    1.411071e+09        1.0              1.0       0.0   \n",
       "306        Lajiri,  Jyoti  1.108028e+09        1.0              1.0       1.0   \n",
       "308            South, Joe  1.308061e+09        0.0              0.0       1.0   \n",
       "309       Warfield, Sarah  1.301052e+09        0.0              4.0       0.0   \n",
       "\n",
       "     EmpStatusID  DeptID  PerfScoreID  FromDiversityJobFairID  PayRate  ...  \\\n",
       "0            1.0     1.0          3.0                     1.0    28.50  ...   \n",
       "1            1.0     1.0          3.0                     0.0    23.00  ...   \n",
       "2            1.0     1.0          3.0                     0.0    29.00  ...   \n",
       "4            1.0     1.0          3.0                     0.0    16.56  ...   \n",
       "7            1.0     6.0          3.0                     0.0    55.00  ...   \n",
       "..           ...     ...          ...                     ...      ...  ...   \n",
       "300          1.0     1.0          3.0                     1.0    34.95  ...   \n",
       "305          3.0     3.0          3.0                     0.0    54.10  ...   \n",
       "306          3.0     3.0          3.0                     0.0    56.20  ...   \n",
       "308          1.0     3.0          3.0                     0.0    53.00  ...   \n",
       "309          1.0     3.0          3.0                     0.0    55.20  ...   \n",
       "\n",
       "        Department         ManagerName ManagerID   RecruitmentSource  \\\n",
       "0    Admin Offices  Brandon R. LeBlanc       1.0  Diversity Job Fair   \n",
       "1    Admin Offices  Brandon R. LeBlanc       1.0  Website Banner Ads   \n",
       "2    Admin Offices  Brandon R. LeBlanc       1.0     Internet Search   \n",
       "4    Admin Offices  Brandon R. LeBlanc       1.0  Website Banner Ads   \n",
       "7            Sales          John Smith      17.0           Billboard   \n",
       "..             ...                 ...       ...                 ...   \n",
       "300  Admin Offices  Brandon R. LeBlanc       3.0  Diversity Job Fair   \n",
       "305          IT/IS        Peter Monroe       7.0     Vendor Referral   \n",
       "306          IT/IS        Peter Monroe       7.0   Employee Referral   \n",
       "308          IT/IS        Peter Monroe       7.0   Employee Referral   \n",
       "309          IT/IS        Peter Monroe       7.0   Employee Referral   \n",
       "\n",
       "     PerformanceScore EngagementSurvey EmpSatisfaction SpecialProjectsCount  \\\n",
       "0         Fully Meets             2.04             2.0                  6.0   \n",
       "1         Fully Meets             5.00             4.0                  4.0   \n",
       "2         Fully Meets             3.90             5.0                  5.0   \n",
       "4         Fully Meets             5.00             3.0                  5.0   \n",
       "7         Fully Meets             5.00             5.0                  0.0   \n",
       "..                ...              ...             ...                  ...   \n",
       "300       Fully Meets             5.00             4.0                  3.0   \n",
       "305       Fully Meets             1.55             5.0                  8.0   \n",
       "306       Fully Meets             4.46             5.0                  6.0   \n",
       "308       Fully Meets             5.00             3.0                  4.0   \n",
       "309       Fully Meets             1.06             4.0                  8.0   \n",
       "\n",
       "     Seniority        Age  \n",
       "0    10.916035  31.841858  \n",
       "1     5.722226  35.420303  \n",
       "2     4.993942  33.071179  \n",
       "4     4.408030  31.357249  \n",
       "7     5.108934 -43.631286  \n",
       "..         ...        ...  \n",
       "300   4.610635  32.482529  \n",
       "305   4.878950 -32.310041  \n",
       "306   4.878950  33.429845  \n",
       "308   4.878950 -45.953031  \n",
       "309   4.495643  41.405368  \n",
       "\n",
       "[196 rows x 35 columns]"
      ]
     },
     "execution_count": 13,
     "metadata": {},
     "output_type": "execute_result"
    }
   ],
   "source": [
    "def emploee_age(row):\n",
    "    today = dt.datetime(2019,9,27)\n",
    "    return (today - row['DOB'])/np.timedelta64(1,'Y')\n",
    "\n",
    "df2['Age'] = df2.apply(lambda row: emploee_age(row),axis=1)\n",
    "df2"
   ]
  },
  {
   "cell_type": "code",
   "execution_count": 23,
   "id": "d9fb53d7",
   "metadata": {},
   "outputs": [
    {
     "data": {
      "text/plain": [
       "<seaborn.axisgrid.FacetGrid at 0x1d2be3c2b30>"
      ]
     },
     "execution_count": 23,
     "metadata": {},
     "output_type": "execute_result"
    },
    {
     "data": {
      "text/plain": [
       "<Figure size 1080x360 with 0 Axes>"
      ]
     },
     "metadata": {},
     "output_type": "display_data"
    },
    {
     "data": {
      "image/png": "[encoded data removed]",
      "text/plain": [
       "<Figure size 360x360 with 1 Axes>"
      ]
     },
     "metadata": {
      "needs_background": "light"
     },
     "output_type": "display_data"
    }
   ],
   "source": [
    "plt.figure(figsize=(15,5))\n",
    "sns.displot(df2['Age']) #nie wiem czemu datę 05/15/63 zamienia na 2063-05-15, co powoduje, że są wartości ujemne"
   ]
  },
  {
   "cell_type": "markdown",
   "id": "ee71182f",
   "metadata": {},
   "source": [
    "### Czy starsi pracownicy pracują nad większą liczbą specjalnych projektów niż młodsi pracownicy?"
   ]
  },
  {
   "cell_type": "code",
   "execution_count": 30,
   "id": "44918690",
   "metadata": {},
   "outputs": [
    {
     "data": {
      "text/plain": [
       "<seaborn.axisgrid.JointGrid at 0x1d2c13384f0>"
      ]
     },
     "execution_count": 30,
     "metadata": {},
     "output_type": "execute_result"
    },
    {
     "data": {
      "text/plain": [
       "<Figure size 1440x1440 with 0 Axes>"
      ]
     },
     "metadata": {},
     "output_type": "display_data"
    },
    {
     "data": {
      "image/png": "[encoded data removed]",
      "text/plain": [
       "<Figure size 432x432 with 3 Axes>"
      ]
     },
     "metadata": {
      "needs_background": "light"
     },
     "output_type": "display_data"
    }
   ],
   "source": [
    "# plt.figure(figsize=(20,10))\n",
    "# sns.barplot(x='Age', y='SpecialProjectsCount', data=df2)\n",
    "\n",
    "plt.figure(figsize=(20,20))\n",
    "sns.jointplot(x='Age',y='SpecialProjectsCount',data=df2)\n",
    "\n",
    "# plt.figure(figsize=(15,5))\n",
    "# sns.barplot(x='Age',y='SpecialProjectsCount',data=df2)"
   ]
  },
  {
   "cell_type": "code",
   "execution_count": null,
   "id": "602d7630",
   "metadata": {},
   "outputs": [],
   "source": []
  }
 ],
 "metadata": {
  "kernelspec": {
   "display_name": "Python 3 (ipykernel)",
   "language": "python",
   "name": "python3"
  },
  "language_info": {
   "codemirror_mode": {
    "name": "ipython",
    "version": 3
   },
   "file_extension": ".py",
   "mimetype": "text/x-python",
   "name": "python",
   "nbconvert_exporter": "python",
   "pygments_lexer": "ipython3",
   "version": "3.10.5"
  }
 },
 "nbformat": 4,
 "nbformat_minor": 5
}
